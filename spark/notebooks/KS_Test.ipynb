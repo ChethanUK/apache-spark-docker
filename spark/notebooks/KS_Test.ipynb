{
 "cells": [
  {
   "cell_type": "code",
   "execution_count": 1,
   "id": "middle-immunology",
   "metadata": {},
   "outputs": [
    {
     "name": "stdout",
     "output_type": "stream",
     "text": [
      "Collecting koalas\n",
      "  Downloading koalas-1.6.0-py3-none-any.whl (668 kB)\n",
      "\u001b[K     |████████████████████████████████| 668 kB 496 kB/s eta 0:00:01     |███████████▎                    | 235 kB 496 kB/s eta 0:00:01\n",
      "\u001b[?25hCollecting matplotlib<3.3.0,>=3.0.0\n",
      "  Downloading matplotlib-3.2.2-cp38-cp38-manylinux1_x86_64.whl (12.4 MB)\n",
      "\u001b[K     |████████████████████████████████| 12.4 MB 4.8 MB/s eta 0:00:01    |▌                               | 184 kB 5.2 MB/s eta 0:00:03     |█████                           | 1.9 MB 5.2 MB/s eta 0:00:03     |█████████████▊                  | 5.3 MB 3.2 MB/s eta 0:00:03\n",
      "\u001b[?25hRequirement already satisfied: numpy>=1.14 in /opt/conda/lib/python3.8/site-packages (from koalas) (1.19.5)\n",
      "Requirement already satisfied: pyarrow>=0.10 in /opt/conda/lib/python3.8/site-packages (from koalas) (2.0.0)\n",
      "Collecting pandas<1.2.0,>=0.23.2\n",
      "  Downloading pandas-1.1.5-cp38-cp38-manylinux1_x86_64.whl (9.3 MB)\n",
      "\u001b[K     |████████████████████████████████| 9.3 MB 2.7 MB/s eta 0:00:01\n",
      "\u001b[?25hRequirement already satisfied: python-dateutil>=2.1 in /opt/conda/lib/python3.8/site-packages (from matplotlib<3.3.0,>=3.0.0->koalas) (2.8.1)\n",
      "Requirement already satisfied: pyparsing!=2.0.4,!=2.1.2,!=2.1.6,>=2.0.1 in /opt/conda/lib/python3.8/site-packages (from matplotlib<3.3.0,>=3.0.0->koalas) (2.4.7)\n",
      "Requirement already satisfied: cycler>=0.10 in /opt/conda/lib/python3.8/site-packages (from matplotlib<3.3.0,>=3.0.0->koalas) (0.10.0)\n",
      "Requirement already satisfied: kiwisolver>=1.0.1 in /opt/conda/lib/python3.8/site-packages (from matplotlib<3.3.0,>=3.0.0->koalas) (1.3.1)\n",
      "Requirement already satisfied: six in /opt/conda/lib/python3.8/site-packages (from cycler>=0.10->matplotlib<3.3.0,>=3.0.0->koalas) (1.15.0)\n",
      "Requirement already satisfied: pytz>=2017.2 in /opt/conda/lib/python3.8/site-packages (from pandas<1.2.0,>=0.23.2->koalas) (2020.5)\n",
      "Installing collected packages: pandas, matplotlib, koalas\n",
      "  Attempting uninstall: pandas\n",
      "    Found existing installation: pandas 1.2.1\n",
      "    Uninstalling pandas-1.2.1:\n",
      "      Successfully uninstalled pandas-1.2.1\n",
      "  Attempting uninstall: matplotlib\n",
      "    Found existing installation: matplotlib 3.3.3\n",
      "    Uninstalling matplotlib-3.3.3:\n",
      "      Successfully uninstalled matplotlib-3.3.3\n",
      "Successfully installed koalas-1.6.0 matplotlib-3.2.2 pandas-1.1.5\n"
     ]
    }
   ],
   "source": [
    "!pip install koalas"
   ]
  },
  {
   "cell_type": "code",
   "execution_count": 7,
   "id": "spoken-digit",
   "metadata": {},
   "outputs": [
    {
     "name": "stdout",
     "output_type": "stream",
     "text": [
      "--2021-02-06 12:30:17--  http://spark:8181/\r\n",
      "Resolving spark (spark)... 172.22.0.4\r\n",
      "Connecting to spark (spark)|172.22.0.4|:8181... failed: Connection refused.\r\n"
     ]
    }
   ],
   "source": [
    "spark = SparkSession.builder()\n",
    "      .master(\"local[1]\")\n",
    "      .appName(\"SparkByExamples.com\")\n",
    "      .getOrCreate()  !wget http://spark:8181"
   ]
  },
  {
   "cell_type": "code",
   "execution_count": 9,
   "id": "forbidden-chinese",
   "metadata": {},
   "outputs": [],
   "source": [
    "from pyspark.sql import SparkSession"
   ]
  },
  {
   "cell_type": "code",
   "execution_count": 10,
   "id": "indirect-identification",
   "metadata": {},
   "outputs": [],
   "source": [
    "# create an instance of a SparkSession as spark\n",
    "spark1 = SparkSession\\\n",
    "    .builder\\\n",
    "    .master(\"spark://spark:7077\")\\\n",
    "    .appName(\"wordcount\")\\\n",
    "    .getOrCreate()"
   ]
  },
  {
   "cell_type": "code",
   "execution_count": 11,
   "id": "original-occasion",
   "metadata": {},
   "outputs": [
    {
     "data": {
      "text/html": [
       "\n",
       "            <div>\n",
       "                <p><b>SparkSession - in-memory</b></p>\n",
       "                \n",
       "        <div>\n",
       "            <p><b>SparkContext</b></p>\n",
       "\n",
       "            <p><a href=\"http://ae3833a62829:4040\">Spark UI</a></p>\n",
       "\n",
       "            <dl>\n",
       "              <dt>Version</dt>\n",
       "                <dd><code>v3.0.1</code></dd>\n",
       "              <dt>Master</dt>\n",
       "                <dd><code>spark://spark:7077</code></dd>\n",
       "              <dt>AppName</dt>\n",
       "                <dd><code>wordcount</code></dd>\n",
       "            </dl>\n",
       "        </div>\n",
       "        \n",
       "            </div>\n",
       "        "
      ],
      "text/plain": [
       "<pyspark.sql.session.SparkSession at 0x7f2f88e172b0>"
      ]
     },
     "execution_count": 11,
     "metadata": {},
     "output_type": "execute_result"
    }
   ],
   "source": [
    "spark1"
   ]
  },
  {
   "cell_type": "code",
   "execution_count": 14,
   "id": "wireless-liquid",
   "metadata": {},
   "outputs": [
    {
     "name": "stdout",
     "output_type": "stream",
     "text": [
      "top-N.txt\r\n"
     ]
    }
   ],
   "source": [
    "ls ../data"
   ]
  },
  {
   "cell_type": "code",
   "execution_count": 16,
   "id": "vocal-victor",
   "metadata": {},
   "outputs": [],
   "source": [
    "sc = spark1.sparkContext"
   ]
  },
  {
   "cell_type": "code",
   "execution_count": 17,
   "id": "viral-seating",
   "metadata": {},
   "outputs": [],
   "source": [
    "inputPath = \"../data/top-N.txt\"\n",
    "textfileRDD = sc.textFile(inputPath)"
   ]
  },
  {
   "cell_type": "code",
   "execution_count": 18,
   "id": "protecting-panic",
   "metadata": {},
   "outputs": [
    {
     "data": {
      "text/plain": [
       "../data/top-N.txt MapPartitionsRDD[1] at textFile at NativeMethodAccessorImpl.java:0"
      ]
     },
     "execution_count": 18,
     "metadata": {},
     "output_type": "execute_result"
    }
   ],
   "source": [
    "textfileRDD"
   ]
  },
  {
   "cell_type": "code",
   "execution_count": null,
   "id": "declared-impact",
   "metadata": {},
   "outputs": [],
   "source": []
  }
 ],
 "metadata": {
  "kernelspec": {
   "display_name": "Python 3",
   "language": "python",
   "name": "python3"
  },
  "language_info": {
   "codemirror_mode": {
    "name": "ipython",
    "version": 3
   },
   "file_extension": ".py",
   "mimetype": "text/x-python",
   "name": "python",
   "nbconvert_exporter": "python",
   "pygments_lexer": "ipython3",
   "version": "3.8.6"
  }
 },
 "nbformat": 4,
 "nbformat_minor": 5
}
